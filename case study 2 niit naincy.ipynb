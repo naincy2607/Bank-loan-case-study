{
 "cells": [
  {
   "cell_type": "markdown",
   "id": "95d2758c",
   "metadata": {},
   "source": [
    "# Hackathon Repaying the Credit"
   ]
  },
  {
   "cell_type": "markdown",
   "id": "c228a623",
   "metadata": {},
   "source": [
    "Repaying the Credit\n",
    "\n",
    "Gold Atlantis, a credit-providing firm, observed a rise in the number of defaulters.\n",
    "\n",
    "Now, the firm is only interested in those consumers who have a lower probability of becoming"
   ]
  },
  {
   "cell_type": "markdown",
   "id": "466b79f5",
   "metadata": {},
   "source": [
    "# OBJECTIVE OF THE CASE STUDY\n",
    "This case study aims to identify patterns which indicate if a client has difficulty paying their instalments which may be used for taking actions such as denying the loan, reducing the amount of loan, lending (to risky applicants) at a higher interest rate, etc. This will ensure that the consumers capable of repaying the loan are not rejected. Identification of such applicants using EDA is the aim of this case study.\n",
    "\n",
    "In other words, the company wants to understand the driving factors (or driver variables) behind loan default, i.e. the variables which are strong indicators of default. The company can utilise this knowledge for its portfolio and risk assessment."
   ]
  },
  {
   "cell_type": "markdown",
   "id": "3f90c447",
   "metadata": {},
   "source": [
    "# ~ IMPORTING RELEVANT LIBRARIES ~"
   ]
  },
  {
   "cell_type": "code",
   "execution_count": 2,
   "id": "b8798c3b",
   "metadata": {},
   "outputs": [],
   "source": [
    "import matplotlib.pyplot as plt             # to visualize\n",
    "from tabulate import tabulate               # to print the table\n",
    "import matplotlib as mat                    # to visualize \n",
    "import seaborn as sns                       # to visualize\n",
    "import pandas as pd                         # for data reading\n",
    "import numpy as np                          # for numerical computation\n",
    "import warnings\n",
    "warnings.filterwarnings(\"ignore\")"
   ]
  },
  {
   "cell_type": "code",
   "execution_count": 3,
   "id": "1f0c2b2b",
   "metadata": {},
   "outputs": [],
   "source": [
    "df = pd.read_csv(\"DS1_C5_S4_Credit_Data_Hackathon.csv\") # read_csv: inbuilt function of pandas to read files "
   ]
  },
  {
   "cell_type": "markdown",
   "id": "f86a557d",
   "metadata": {},
   "source": [
    "# Level 0 Analysis: Understanding Data"
   ]
  },
  {
   "cell_type": "code",
   "execution_count": 4,
   "id": "39e3e73d",
   "metadata": {},
   "outputs": [
    {
     "data": {
      "text/html": [
       "<div>\n",
       "<style scoped>\n",
       "    .dataframe tbody tr th:only-of-type {\n",
       "        vertical-align: middle;\n",
       "    }\n",
       "\n",
       "    .dataframe tbody tr th {\n",
       "        vertical-align: top;\n",
       "    }\n",
       "\n",
       "    .dataframe thead th {\n",
       "        text-align: right;\n",
       "    }\n",
       "</style>\n",
       "<table border=\"1\" class=\"dataframe\">\n",
       "  <thead>\n",
       "    <tr style=\"text-align: right;\">\n",
       "      <th></th>\n",
       "      <th>SK_ID_CURR</th>\n",
       "      <th>TARGET</th>\n",
       "      <th>NAME_CONTRACT_TYPE</th>\n",
       "      <th>GENDER</th>\n",
       "      <th>Car</th>\n",
       "      <th>House</th>\n",
       "      <th>CNT_CHILDREN</th>\n",
       "      <th>AMT_INCOME_TOTAL</th>\n",
       "      <th>AMT_CREDIT</th>\n",
       "      <th>AMT_GOODS_PRICE</th>\n",
       "      <th>...</th>\n",
       "      <th>DAYS_EMPLOYED</th>\n",
       "      <th>MOBILE</th>\n",
       "      <th>WORK_PHONE</th>\n",
       "      <th>HOME_PHONE</th>\n",
       "      <th>MOBILE_REACHABLE</th>\n",
       "      <th>FLAG_EMAIL</th>\n",
       "      <th>OCCUPATION_TYPE</th>\n",
       "      <th>CNT_FAM_MEMBERS</th>\n",
       "      <th>APPLICATION_DAY</th>\n",
       "      <th>TOTAL_DOC_SUBMITTED</th>\n",
       "    </tr>\n",
       "  </thead>\n",
       "  <tbody>\n",
       "    <tr>\n",
       "      <th>0</th>\n",
       "      <td>100002</td>\n",
       "      <td>1</td>\n",
       "      <td>Cash loans</td>\n",
       "      <td>M</td>\n",
       "      <td>N</td>\n",
       "      <td>Y</td>\n",
       "      <td>0</td>\n",
       "      <td>202500.0</td>\n",
       "      <td>406597.5</td>\n",
       "      <td>351000.0</td>\n",
       "      <td>...</td>\n",
       "      <td>-637</td>\n",
       "      <td>1</td>\n",
       "      <td>1</td>\n",
       "      <td>0</td>\n",
       "      <td>1</td>\n",
       "      <td>0</td>\n",
       "      <td>Laborers</td>\n",
       "      <td>1.0</td>\n",
       "      <td>WEDNESDAY</td>\n",
       "      <td>1</td>\n",
       "    </tr>\n",
       "    <tr>\n",
       "      <th>1</th>\n",
       "      <td>100003</td>\n",
       "      <td>0</td>\n",
       "      <td>Cash loans</td>\n",
       "      <td>F</td>\n",
       "      <td>N</td>\n",
       "      <td>N</td>\n",
       "      <td>0</td>\n",
       "      <td>270000.0</td>\n",
       "      <td>1293502.5</td>\n",
       "      <td>1129500.0</td>\n",
       "      <td>...</td>\n",
       "      <td>-1188</td>\n",
       "      <td>1</td>\n",
       "      <td>1</td>\n",
       "      <td>0</td>\n",
       "      <td>1</td>\n",
       "      <td>0</td>\n",
       "      <td>Core staff</td>\n",
       "      <td>2.0</td>\n",
       "      <td>MONDAY</td>\n",
       "      <td>1</td>\n",
       "    </tr>\n",
       "    <tr>\n",
       "      <th>2</th>\n",
       "      <td>100004</td>\n",
       "      <td>0</td>\n",
       "      <td>Revolving loans</td>\n",
       "      <td>M</td>\n",
       "      <td>Y</td>\n",
       "      <td>Y</td>\n",
       "      <td>0</td>\n",
       "      <td>67500.0</td>\n",
       "      <td>135000.0</td>\n",
       "      <td>135000.0</td>\n",
       "      <td>...</td>\n",
       "      <td>-225</td>\n",
       "      <td>1</td>\n",
       "      <td>1</td>\n",
       "      <td>1</td>\n",
       "      <td>1</td>\n",
       "      <td>0</td>\n",
       "      <td>Laborers</td>\n",
       "      <td>1.0</td>\n",
       "      <td>MONDAY</td>\n",
       "      <td>0</td>\n",
       "    </tr>\n",
       "    <tr>\n",
       "      <th>3</th>\n",
       "      <td>100006</td>\n",
       "      <td>0</td>\n",
       "      <td>Cash loans</td>\n",
       "      <td>F</td>\n",
       "      <td>N</td>\n",
       "      <td>Y</td>\n",
       "      <td>0</td>\n",
       "      <td>135000.0</td>\n",
       "      <td>312682.5</td>\n",
       "      <td>297000.0</td>\n",
       "      <td>...</td>\n",
       "      <td>-3039</td>\n",
       "      <td>1</td>\n",
       "      <td>1</td>\n",
       "      <td>0</td>\n",
       "      <td>1</td>\n",
       "      <td>0</td>\n",
       "      <td>Laborers</td>\n",
       "      <td>2.0</td>\n",
       "      <td>WEDNESDAY</td>\n",
       "      <td>1</td>\n",
       "    </tr>\n",
       "    <tr>\n",
       "      <th>4</th>\n",
       "      <td>100007</td>\n",
       "      <td>0</td>\n",
       "      <td>Cash loans</td>\n",
       "      <td>M</td>\n",
       "      <td>N</td>\n",
       "      <td>Y</td>\n",
       "      <td>0</td>\n",
       "      <td>121500.0</td>\n",
       "      <td>513000.0</td>\n",
       "      <td>513000.0</td>\n",
       "      <td>...</td>\n",
       "      <td>-3038</td>\n",
       "      <td>1</td>\n",
       "      <td>1</td>\n",
       "      <td>0</td>\n",
       "      <td>1</td>\n",
       "      <td>0</td>\n",
       "      <td>Core staff</td>\n",
       "      <td>1.0</td>\n",
       "      <td>THURSDAY</td>\n",
       "      <td>1</td>\n",
       "    </tr>\n",
       "    <tr>\n",
       "      <th>5</th>\n",
       "      <td>100008</td>\n",
       "      <td>0</td>\n",
       "      <td>Cash loans</td>\n",
       "      <td>M</td>\n",
       "      <td>N</td>\n",
       "      <td>Y</td>\n",
       "      <td>0</td>\n",
       "      <td>99000.0</td>\n",
       "      <td>490495.5</td>\n",
       "      <td>454500.0</td>\n",
       "      <td>...</td>\n",
       "      <td>-1588</td>\n",
       "      <td>1</td>\n",
       "      <td>1</td>\n",
       "      <td>1</td>\n",
       "      <td>1</td>\n",
       "      <td>0</td>\n",
       "      <td>Laborers</td>\n",
       "      <td>2.0</td>\n",
       "      <td>WEDNESDAY</td>\n",
       "      <td>1</td>\n",
       "    </tr>\n",
       "    <tr>\n",
       "      <th>6</th>\n",
       "      <td>100009</td>\n",
       "      <td>0</td>\n",
       "      <td>Cash loans</td>\n",
       "      <td>F</td>\n",
       "      <td>Y</td>\n",
       "      <td>Y</td>\n",
       "      <td>1</td>\n",
       "      <td>171000.0</td>\n",
       "      <td>1560726.0</td>\n",
       "      <td>1395000.0</td>\n",
       "      <td>...</td>\n",
       "      <td>-3130</td>\n",
       "      <td>1</td>\n",
       "      <td>1</td>\n",
       "      <td>0</td>\n",
       "      <td>1</td>\n",
       "      <td>0</td>\n",
       "      <td>Accountants</td>\n",
       "      <td>3.0</td>\n",
       "      <td>SUNDAY</td>\n",
       "      <td>2</td>\n",
       "    </tr>\n",
       "    <tr>\n",
       "      <th>7</th>\n",
       "      <td>100010</td>\n",
       "      <td>0</td>\n",
       "      <td>Cash loans</td>\n",
       "      <td>M</td>\n",
       "      <td>Y</td>\n",
       "      <td>Y</td>\n",
       "      <td>0</td>\n",
       "      <td>360000.0</td>\n",
       "      <td>1530000.0</td>\n",
       "      <td>1530000.0</td>\n",
       "      <td>...</td>\n",
       "      <td>-449</td>\n",
       "      <td>1</td>\n",
       "      <td>1</td>\n",
       "      <td>1</td>\n",
       "      <td>1</td>\n",
       "      <td>0</td>\n",
       "      <td>Managers</td>\n",
       "      <td>2.0</td>\n",
       "      <td>MONDAY</td>\n",
       "      <td>1</td>\n",
       "    </tr>\n",
       "    <tr>\n",
       "      <th>8</th>\n",
       "      <td>100011</td>\n",
       "      <td>0</td>\n",
       "      <td>Cash loans</td>\n",
       "      <td>F</td>\n",
       "      <td>N</td>\n",
       "      <td>Y</td>\n",
       "      <td>0</td>\n",
       "      <td>112500.0</td>\n",
       "      <td>1019610.0</td>\n",
       "      <td>913500.0</td>\n",
       "      <td>...</td>\n",
       "      <td>365243</td>\n",
       "      <td>1</td>\n",
       "      <td>0</td>\n",
       "      <td>0</td>\n",
       "      <td>1</td>\n",
       "      <td>0</td>\n",
       "      <td>NaN</td>\n",
       "      <td>2.0</td>\n",
       "      <td>WEDNESDAY</td>\n",
       "      <td>1</td>\n",
       "    </tr>\n",
       "    <tr>\n",
       "      <th>9</th>\n",
       "      <td>100012</td>\n",
       "      <td>0</td>\n",
       "      <td>Revolving loans</td>\n",
       "      <td>M</td>\n",
       "      <td>N</td>\n",
       "      <td>Y</td>\n",
       "      <td>0</td>\n",
       "      <td>135000.0</td>\n",
       "      <td>405000.0</td>\n",
       "      <td>405000.0</td>\n",
       "      <td>...</td>\n",
       "      <td>-2019</td>\n",
       "      <td>1</td>\n",
       "      <td>1</td>\n",
       "      <td>0</td>\n",
       "      <td>1</td>\n",
       "      <td>0</td>\n",
       "      <td>Laborers</td>\n",
       "      <td>1.0</td>\n",
       "      <td>THURSDAY</td>\n",
       "      <td>0</td>\n",
       "    </tr>\n",
       "  </tbody>\n",
       "</table>\n",
       "<p>10 rows × 24 columns</p>\n",
       "</div>"
      ],
      "text/plain": [
       "   SK_ID_CURR  TARGET NAME_CONTRACT_TYPE GENDER Car House  CNT_CHILDREN  \\\n",
       "0      100002       1         Cash loans      M   N     Y             0   \n",
       "1      100003       0         Cash loans      F   N     N             0   \n",
       "2      100004       0    Revolving loans      M   Y     Y             0   \n",
       "3      100006       0         Cash loans      F   N     Y             0   \n",
       "4      100007       0         Cash loans      M   N     Y             0   \n",
       "5      100008       0         Cash loans      M   N     Y             0   \n",
       "6      100009       0         Cash loans      F   Y     Y             1   \n",
       "7      100010       0         Cash loans      M   Y     Y             0   \n",
       "8      100011       0         Cash loans      F   N     Y             0   \n",
       "9      100012       0    Revolving loans      M   N     Y             0   \n",
       "\n",
       "   AMT_INCOME_TOTAL  AMT_CREDIT  AMT_GOODS_PRICE  ... DAYS_EMPLOYED MOBILE  \\\n",
       "0          202500.0    406597.5         351000.0  ...          -637      1   \n",
       "1          270000.0   1293502.5        1129500.0  ...         -1188      1   \n",
       "2           67500.0    135000.0         135000.0  ...          -225      1   \n",
       "3          135000.0    312682.5         297000.0  ...         -3039      1   \n",
       "4          121500.0    513000.0         513000.0  ...         -3038      1   \n",
       "5           99000.0    490495.5         454500.0  ...         -1588      1   \n",
       "6          171000.0   1560726.0        1395000.0  ...         -3130      1   \n",
       "7          360000.0   1530000.0        1530000.0  ...          -449      1   \n",
       "8          112500.0   1019610.0         913500.0  ...        365243      1   \n",
       "9          135000.0    405000.0         405000.0  ...         -2019      1   \n",
       "\n",
       "  WORK_PHONE HOME_PHONE  MOBILE_REACHABLE  FLAG_EMAIL  OCCUPATION_TYPE  \\\n",
       "0          1          0                 1           0         Laborers   \n",
       "1          1          0                 1           0       Core staff   \n",
       "2          1          1                 1           0         Laborers   \n",
       "3          1          0                 1           0         Laborers   \n",
       "4          1          0                 1           0       Core staff   \n",
       "5          1          1                 1           0         Laborers   \n",
       "6          1          0                 1           0      Accountants   \n",
       "7          1          1                 1           0         Managers   \n",
       "8          0          0                 1           0              NaN   \n",
       "9          1          0                 1           0         Laborers   \n",
       "\n",
       "   CNT_FAM_MEMBERS  APPLICATION_DAY  TOTAL_DOC_SUBMITTED  \n",
       "0              1.0        WEDNESDAY                    1  \n",
       "1              2.0           MONDAY                    1  \n",
       "2              1.0           MONDAY                    0  \n",
       "3              2.0        WEDNESDAY                    1  \n",
       "4              1.0         THURSDAY                    1  \n",
       "5              2.0        WEDNESDAY                    1  \n",
       "6              3.0           SUNDAY                    2  \n",
       "7              2.0           MONDAY                    1  \n",
       "8              2.0        WEDNESDAY                    1  \n",
       "9              1.0         THURSDAY                    0  \n",
       "\n",
       "[10 rows x 24 columns]"
      ]
     },
     "execution_count": 4,
     "metadata": {},
     "output_type": "execute_result"
    }
   ],
   "source": [
    "df.head(10)#reading top 10 rows for understanding."
   ]
  },
  {
   "cell_type": "code",
   "execution_count": 5,
   "id": "e9fa4ea0",
   "metadata": {},
   "outputs": [
    {
     "data": {
      "text/html": [
       "<div>\n",
       "<style scoped>\n",
       "    .dataframe tbody tr th:only-of-type {\n",
       "        vertical-align: middle;\n",
       "    }\n",
       "\n",
       "    .dataframe tbody tr th {\n",
       "        vertical-align: top;\n",
       "    }\n",
       "\n",
       "    .dataframe thead th {\n",
       "        text-align: right;\n",
       "    }\n",
       "</style>\n",
       "<table border=\"1\" class=\"dataframe\">\n",
       "  <thead>\n",
       "    <tr style=\"text-align: right;\">\n",
       "      <th></th>\n",
       "      <th>SK_ID_CURR</th>\n",
       "      <th>TARGET</th>\n",
       "      <th>NAME_CONTRACT_TYPE</th>\n",
       "      <th>GENDER</th>\n",
       "      <th>Car</th>\n",
       "      <th>House</th>\n",
       "      <th>CNT_CHILDREN</th>\n",
       "      <th>AMT_INCOME_TOTAL</th>\n",
       "      <th>AMT_CREDIT</th>\n",
       "      <th>AMT_GOODS_PRICE</th>\n",
       "      <th>...</th>\n",
       "      <th>DAYS_EMPLOYED</th>\n",
       "      <th>MOBILE</th>\n",
       "      <th>WORK_PHONE</th>\n",
       "      <th>HOME_PHONE</th>\n",
       "      <th>MOBILE_REACHABLE</th>\n",
       "      <th>FLAG_EMAIL</th>\n",
       "      <th>OCCUPATION_TYPE</th>\n",
       "      <th>CNT_FAM_MEMBERS</th>\n",
       "      <th>APPLICATION_DAY</th>\n",
       "      <th>TOTAL_DOC_SUBMITTED</th>\n",
       "    </tr>\n",
       "  </thead>\n",
       "  <tbody>\n",
       "    <tr>\n",
       "      <th>99990</th>\n",
       "      <td>216081</td>\n",
       "      <td>0</td>\n",
       "      <td>Revolving loans</td>\n",
       "      <td>F</td>\n",
       "      <td>N</td>\n",
       "      <td>Y</td>\n",
       "      <td>1</td>\n",
       "      <td>67500.0</td>\n",
       "      <td>180000.0</td>\n",
       "      <td>180000.0</td>\n",
       "      <td>...</td>\n",
       "      <td>-927</td>\n",
       "      <td>1</td>\n",
       "      <td>1</td>\n",
       "      <td>1</td>\n",
       "      <td>1</td>\n",
       "      <td>0</td>\n",
       "      <td>High skill tech staff</td>\n",
       "      <td>3.0</td>\n",
       "      <td>MONDAY</td>\n",
       "      <td>0</td>\n",
       "    </tr>\n",
       "    <tr>\n",
       "      <th>99991</th>\n",
       "      <td>216082</td>\n",
       "      <td>0</td>\n",
       "      <td>Cash loans</td>\n",
       "      <td>M</td>\n",
       "      <td>Y</td>\n",
       "      <td>N</td>\n",
       "      <td>2</td>\n",
       "      <td>270000.0</td>\n",
       "      <td>450000.0</td>\n",
       "      <td>450000.0</td>\n",
       "      <td>...</td>\n",
       "      <td>-5525</td>\n",
       "      <td>1</td>\n",
       "      <td>1</td>\n",
       "      <td>0</td>\n",
       "      <td>1</td>\n",
       "      <td>0</td>\n",
       "      <td>Managers</td>\n",
       "      <td>4.0</td>\n",
       "      <td>MONDAY</td>\n",
       "      <td>1</td>\n",
       "    </tr>\n",
       "    <tr>\n",
       "      <th>99992</th>\n",
       "      <td>216083</td>\n",
       "      <td>0</td>\n",
       "      <td>Cash loans</td>\n",
       "      <td>F</td>\n",
       "      <td>N</td>\n",
       "      <td>N</td>\n",
       "      <td>0</td>\n",
       "      <td>81000.0</td>\n",
       "      <td>486459.0</td>\n",
       "      <td>342000.0</td>\n",
       "      <td>...</td>\n",
       "      <td>-574</td>\n",
       "      <td>1</td>\n",
       "      <td>1</td>\n",
       "      <td>0</td>\n",
       "      <td>1</td>\n",
       "      <td>0</td>\n",
       "      <td>High skill tech staff</td>\n",
       "      <td>2.0</td>\n",
       "      <td>WEDNESDAY</td>\n",
       "      <td>1</td>\n",
       "    </tr>\n",
       "    <tr>\n",
       "      <th>99993</th>\n",
       "      <td>216084</td>\n",
       "      <td>0</td>\n",
       "      <td>Revolving loans</td>\n",
       "      <td>F</td>\n",
       "      <td>N</td>\n",
       "      <td>N</td>\n",
       "      <td>0</td>\n",
       "      <td>90000.0</td>\n",
       "      <td>180000.0</td>\n",
       "      <td>180000.0</td>\n",
       "      <td>...</td>\n",
       "      <td>-491</td>\n",
       "      <td>1</td>\n",
       "      <td>1</td>\n",
       "      <td>1</td>\n",
       "      <td>1</td>\n",
       "      <td>0</td>\n",
       "      <td>Core staff</td>\n",
       "      <td>1.0</td>\n",
       "      <td>TUESDAY</td>\n",
       "      <td>0</td>\n",
       "    </tr>\n",
       "    <tr>\n",
       "      <th>99994</th>\n",
       "      <td>216085</td>\n",
       "      <td>0</td>\n",
       "      <td>Cash loans</td>\n",
       "      <td>M</td>\n",
       "      <td>Y</td>\n",
       "      <td>N</td>\n",
       "      <td>0</td>\n",
       "      <td>225000.0</td>\n",
       "      <td>612000.0</td>\n",
       "      <td>612000.0</td>\n",
       "      <td>...</td>\n",
       "      <td>-135</td>\n",
       "      <td>1</td>\n",
       "      <td>1</td>\n",
       "      <td>0</td>\n",
       "      <td>1</td>\n",
       "      <td>0</td>\n",
       "      <td>Laborers</td>\n",
       "      <td>2.0</td>\n",
       "      <td>SATURDAY</td>\n",
       "      <td>1</td>\n",
       "    </tr>\n",
       "    <tr>\n",
       "      <th>99995</th>\n",
       "      <td>216086</td>\n",
       "      <td>0</td>\n",
       "      <td>Cash loans</td>\n",
       "      <td>F</td>\n",
       "      <td>N</td>\n",
       "      <td>Y</td>\n",
       "      <td>1</td>\n",
       "      <td>157500.0</td>\n",
       "      <td>755190.0</td>\n",
       "      <td>675000.0</td>\n",
       "      <td>...</td>\n",
       "      <td>-232</td>\n",
       "      <td>1</td>\n",
       "      <td>1</td>\n",
       "      <td>1</td>\n",
       "      <td>1</td>\n",
       "      <td>0</td>\n",
       "      <td>Sales staff</td>\n",
       "      <td>3.0</td>\n",
       "      <td>MONDAY</td>\n",
       "      <td>1</td>\n",
       "    </tr>\n",
       "    <tr>\n",
       "      <th>99996</th>\n",
       "      <td>216087</td>\n",
       "      <td>0</td>\n",
       "      <td>Cash loans</td>\n",
       "      <td>F</td>\n",
       "      <td>N</td>\n",
       "      <td>Y</td>\n",
       "      <td>1</td>\n",
       "      <td>225000.0</td>\n",
       "      <td>284400.0</td>\n",
       "      <td>225000.0</td>\n",
       "      <td>...</td>\n",
       "      <td>-182</td>\n",
       "      <td>1</td>\n",
       "      <td>1</td>\n",
       "      <td>0</td>\n",
       "      <td>1</td>\n",
       "      <td>0</td>\n",
       "      <td>Managers</td>\n",
       "      <td>3.0</td>\n",
       "      <td>TUESDAY</td>\n",
       "      <td>1</td>\n",
       "    </tr>\n",
       "    <tr>\n",
       "      <th>99997</th>\n",
       "      <td>216088</td>\n",
       "      <td>0</td>\n",
       "      <td>Cash loans</td>\n",
       "      <td>F</td>\n",
       "      <td>Y</td>\n",
       "      <td>Y</td>\n",
       "      <td>0</td>\n",
       "      <td>135000.0</td>\n",
       "      <td>1262583.0</td>\n",
       "      <td>1102500.0</td>\n",
       "      <td>...</td>\n",
       "      <td>-4805</td>\n",
       "      <td>1</td>\n",
       "      <td>1</td>\n",
       "      <td>0</td>\n",
       "      <td>1</td>\n",
       "      <td>0</td>\n",
       "      <td>Sales staff</td>\n",
       "      <td>2.0</td>\n",
       "      <td>TUESDAY</td>\n",
       "      <td>1</td>\n",
       "    </tr>\n",
       "    <tr>\n",
       "      <th>99998</th>\n",
       "      <td>216089</td>\n",
       "      <td>0</td>\n",
       "      <td>Cash loans</td>\n",
       "      <td>F</td>\n",
       "      <td>Y</td>\n",
       "      <td>N</td>\n",
       "      <td>0</td>\n",
       "      <td>135000.0</td>\n",
       "      <td>225000.0</td>\n",
       "      <td>225000.0</td>\n",
       "      <td>...</td>\n",
       "      <td>-340</td>\n",
       "      <td>1</td>\n",
       "      <td>1</td>\n",
       "      <td>0</td>\n",
       "      <td>1</td>\n",
       "      <td>0</td>\n",
       "      <td>Sales staff</td>\n",
       "      <td>2.0</td>\n",
       "      <td>FRIDAY</td>\n",
       "      <td>2</td>\n",
       "    </tr>\n",
       "    <tr>\n",
       "      <th>99999</th>\n",
       "      <td>216090</td>\n",
       "      <td>0</td>\n",
       "      <td>Revolving loans</td>\n",
       "      <td>M</td>\n",
       "      <td>Y</td>\n",
       "      <td>Y</td>\n",
       "      <td>0</td>\n",
       "      <td>202500.0</td>\n",
       "      <td>337500.0</td>\n",
       "      <td>337500.0</td>\n",
       "      <td>...</td>\n",
       "      <td>-3230</td>\n",
       "      <td>1</td>\n",
       "      <td>1</td>\n",
       "      <td>1</td>\n",
       "      <td>1</td>\n",
       "      <td>0</td>\n",
       "      <td>Drivers</td>\n",
       "      <td>2.0</td>\n",
       "      <td>SATURDAY</td>\n",
       "      <td>0</td>\n",
       "    </tr>\n",
       "  </tbody>\n",
       "</table>\n",
       "<p>10 rows × 24 columns</p>\n",
       "</div>"
      ],
      "text/plain": [
       "       SK_ID_CURR  TARGET NAME_CONTRACT_TYPE GENDER Car House  CNT_CHILDREN  \\\n",
       "99990      216081       0    Revolving loans      F   N     Y             1   \n",
       "99991      216082       0         Cash loans      M   Y     N             2   \n",
       "99992      216083       0         Cash loans      F   N     N             0   \n",
       "99993      216084       0    Revolving loans      F   N     N             0   \n",
       "99994      216085       0         Cash loans      M   Y     N             0   \n",
       "99995      216086       0         Cash loans      F   N     Y             1   \n",
       "99996      216087       0         Cash loans      F   N     Y             1   \n",
       "99997      216088       0         Cash loans      F   Y     Y             0   \n",
       "99998      216089       0         Cash loans      F   Y     N             0   \n",
       "99999      216090       0    Revolving loans      M   Y     Y             0   \n",
       "\n",
       "       AMT_INCOME_TOTAL  AMT_CREDIT  AMT_GOODS_PRICE  ... DAYS_EMPLOYED  \\\n",
       "99990           67500.0    180000.0         180000.0  ...          -927   \n",
       "99991          270000.0    450000.0         450000.0  ...         -5525   \n",
       "99992           81000.0    486459.0         342000.0  ...          -574   \n",
       "99993           90000.0    180000.0         180000.0  ...          -491   \n",
       "99994          225000.0    612000.0         612000.0  ...          -135   \n",
       "99995          157500.0    755190.0         675000.0  ...          -232   \n",
       "99996          225000.0    284400.0         225000.0  ...          -182   \n",
       "99997          135000.0   1262583.0        1102500.0  ...         -4805   \n",
       "99998          135000.0    225000.0         225000.0  ...          -340   \n",
       "99999          202500.0    337500.0         337500.0  ...         -3230   \n",
       "\n",
       "      MOBILE WORK_PHONE HOME_PHONE  MOBILE_REACHABLE  FLAG_EMAIL  \\\n",
       "99990      1          1          1                 1           0   \n",
       "99991      1          1          0                 1           0   \n",
       "99992      1          1          0                 1           0   \n",
       "99993      1          1          1                 1           0   \n",
       "99994      1          1          0                 1           0   \n",
       "99995      1          1          1                 1           0   \n",
       "99996      1          1          0                 1           0   \n",
       "99997      1          1          0                 1           0   \n",
       "99998      1          1          0                 1           0   \n",
       "99999      1          1          1                 1           0   \n",
       "\n",
       "             OCCUPATION_TYPE  CNT_FAM_MEMBERS  APPLICATION_DAY  \\\n",
       "99990  High skill tech staff              3.0           MONDAY   \n",
       "99991               Managers              4.0           MONDAY   \n",
       "99992  High skill tech staff              2.0        WEDNESDAY   \n",
       "99993             Core staff              1.0          TUESDAY   \n",
       "99994               Laborers              2.0         SATURDAY   \n",
       "99995            Sales staff              3.0           MONDAY   \n",
       "99996               Managers              3.0          TUESDAY   \n",
       "99997            Sales staff              2.0          TUESDAY   \n",
       "99998            Sales staff              2.0           FRIDAY   \n",
       "99999                Drivers              2.0         SATURDAY   \n",
       "\n",
       "       TOTAL_DOC_SUBMITTED  \n",
       "99990                    0  \n",
       "99991                    1  \n",
       "99992                    1  \n",
       "99993                    0  \n",
       "99994                    1  \n",
       "99995                    1  \n",
       "99996                    1  \n",
       "99997                    1  \n",
       "99998                    2  \n",
       "99999                    0  \n",
       "\n",
       "[10 rows x 24 columns]"
      ]
     },
     "execution_count": 5,
     "metadata": {},
     "output_type": "execute_result"
    }
   ],
   "source": [
    "df.tail(10)#reading bottom 10 rows for understanding."
   ]
  },
  {
   "cell_type": "code",
   "execution_count": 6,
   "id": "57c8764f",
   "metadata": {},
   "outputs": [
    {
     "name": "stdout",
     "output_type": "stream",
     "text": [
      "(100000, 24)\n"
     ]
    }
   ],
   "source": [
    "print(df.shape) #returns a tuple with the details number of rows and columns \n"
   ]
  },
  {
   "cell_type": "markdown",
   "id": "03439129",
   "metadata": {},
   "source": [
    "# Display the names of all the columns"
   ]
  },
  {
   "cell_type": "code",
   "execution_count": 7,
   "id": "269a5477",
   "metadata": {},
   "outputs": [
    {
     "name": "stdout",
     "output_type": "stream",
     "text": [
      "SK_ID_CURR\n",
      "TARGET\n",
      "NAME_CONTRACT_TYPE\n",
      "GENDER\n",
      "Car\n",
      "House\n",
      "CNT_CHILDREN\n",
      "AMT_INCOME_TOTAL\n",
      "AMT_CREDIT\n",
      "AMT_GOODS_PRICE\n",
      "NAME_TYPE_SUITE\n",
      "NAME_INCOME_TYPE\n",
      "NAME_EDUCATION_TYPE\n",
      "NAME_FAMILY_STATUS\n",
      "DAYS_EMPLOYED\n",
      "MOBILE\n",
      "WORK_PHONE\n",
      "HOME_PHONE\n",
      "MOBILE_REACHABLE\n",
      "FLAG_EMAIL\n",
      "OCCUPATION_TYPE\n",
      "CNT_FAM_MEMBERS\n",
      "APPLICATION_DAY\n",
      "TOTAL_DOC_SUBMITTED\n"
     ]
    }
   ],
   "source": [
    "for col in df:\n",
    "    print(col)"
   ]
  },
  {
   "cell_type": "markdown",
   "id": "06635e5a",
   "metadata": {},
   "source": [
    "# Data dictionary"
   ]
  },
  {
   "cell_type": "code",
   "execution_count": 8,
   "id": "6ff08d7b",
   "metadata": {},
   "outputs": [],
   "source": [
    "'''index,Row,Description\n",
    "1,SK_ID_CURR,ID of loan in our sample\n",
    "2,TARGET,\"Target variable (1 - client with payment difficulties: he/she had late payment more than X days on at least one of the first Y installments of the loan in our sample, 0 - all other cases)\"\n",
    "3,NAME_CONTRACT_TYPE,Identification if loan is cash or revolving\n",
    "4,GENDER,Gender of the client\n",
    "5,Car,Flag if the client owns a car\n",
    "6,House,Flag if client owns a house or flat\n",
    "7,CNT_CHILDREN,Number of children the client has\n",
    "8,AMT_INCOME_TOTAL,Income of the client\n",
    "9,AMT_CREDIT,Credit amount of the loan\n",
    "10,AMT_GOODS_PRICE,For consumer loans it is the price of the goods for which the loan is given\n",
    "11,NAME_TYPE_SUITE,Who was accompanying client when he was applying for the loan\n",
    "12,NAME_INCOME_TYPE,\"Clients income type (businessman, working, maternity leave,…)\"\n",
    "13,NAME_EDUCATION_TYPE,Level of highest education the client achieved\n",
    "14,NAME_FAMILY_STATUS,Family status of the client\n",
    "15,DAYS_EMPLOYED,How many days before the application the person started current employment\n",
    "16,MOBILE,\"Did client provide mobile phone (1=YES, 0=NO)\"\n",
    "17,WORK_PHONE,\"Did client provide work phone (1=YES, 0=NO)\"\n",
    "18,HOME_PHONE,\"Did client provide home phone (1=YES, 0=NO)\"\n",
    "19,MOBILE_REACHABLE,\"Was mobile phone reachable (1=YES, 0=NO)\"\n",
    "20,FLAG_EMAIL,\"Did client provide email (1=YES, 0=NO)\"\n",
    "21,OCCUPATION_TYPE,What kind of occupation does the client have\n",
    "22,CNT_FAM_MEMBERS,How many family members does client have\n",
    "23,APPLICATION_DAY,On which day of the week did the client apply for the loan\n",
    "24,TOTAL_DOC_SUBMITTED,Number of documents submitted during loan''';\n"
   ]
  },
  {
   "cell_type": "markdown",
   "id": "0de551c6",
   "metadata": {},
   "source": [
    "# Displaying the dataset information"
   ]
  },
  {
   "cell_type": "code",
   "execution_count": 9,
   "id": "c82c59b7",
   "metadata": {},
   "outputs": [
    {
     "name": "stdout",
     "output_type": "stream",
     "text": [
      "<class 'pandas.core.frame.DataFrame'>\n",
      "RangeIndex: 100000 entries, 0 to 99999\n",
      "Data columns (total 24 columns):\n",
      " #   Column               Non-Null Count   Dtype  \n",
      "---  ------               --------------   -----  \n",
      " 0   SK_ID_CURR           100000 non-null  int64  \n",
      " 1   TARGET               100000 non-null  int64  \n",
      " 2   NAME_CONTRACT_TYPE   100000 non-null  object \n",
      " 3   GENDER               100000 non-null  object \n",
      " 4   Car                  100000 non-null  object \n",
      " 5   House                100000 non-null  object \n",
      " 6   CNT_CHILDREN         100000 non-null  int64  \n",
      " 7   AMT_INCOME_TOTAL     100000 non-null  float64\n",
      " 8   AMT_CREDIT           100000 non-null  float64\n",
      " 9   AMT_GOODS_PRICE      99919 non-null   float64\n",
      " 10  NAME_TYPE_SUITE      99595 non-null   object \n",
      " 11  NAME_INCOME_TYPE     100000 non-null  object \n",
      " 12  NAME_EDUCATION_TYPE  100000 non-null  object \n",
      " 13  NAME_FAMILY_STATUS   100000 non-null  object \n",
      " 14  DAYS_EMPLOYED        100000 non-null  int64  \n",
      " 15  MOBILE               100000 non-null  int64  \n",
      " 16  WORK_PHONE           100000 non-null  int64  \n",
      " 17  HOME_PHONE           100000 non-null  int64  \n",
      " 18  MOBILE_REACHABLE     100000 non-null  int64  \n",
      " 19  FLAG_EMAIL           100000 non-null  int64  \n",
      " 20  OCCUPATION_TYPE      68776 non-null   object \n",
      " 21  CNT_FAM_MEMBERS      99999 non-null   float64\n",
      " 22  APPLICATION_DAY      100000 non-null  object \n",
      " 23  TOTAL_DOC_SUBMITTED  100000 non-null  int64  \n",
      "dtypes: float64(4), int64(10), object(10)\n",
      "memory usage: 18.3+ MB\n"
     ]
    }
   ],
   "source": [
    "df.info()       # returns the information about the dataset"
   ]
  },
  {
   "cell_type": "code",
   "execution_count": 10,
   "id": "88d85884",
   "metadata": {},
   "outputs": [
    {
     "data": {
      "text/html": [
       "<div>\n",
       "<style scoped>\n",
       "    .dataframe tbody tr th:only-of-type {\n",
       "        vertical-align: middle;\n",
       "    }\n",
       "\n",
       "    .dataframe tbody tr th {\n",
       "        vertical-align: top;\n",
       "    }\n",
       "\n",
       "    .dataframe thead th {\n",
       "        text-align: right;\n",
       "    }\n",
       "</style>\n",
       "<table border=\"1\" class=\"dataframe\">\n",
       "  <thead>\n",
       "    <tr style=\"text-align: right;\">\n",
       "      <th></th>\n",
       "      <th>SK_ID_CURR</th>\n",
       "      <th>TARGET</th>\n",
       "      <th>CNT_CHILDREN</th>\n",
       "      <th>AMT_INCOME_TOTAL</th>\n",
       "      <th>AMT_CREDIT</th>\n",
       "      <th>AMT_GOODS_PRICE</th>\n",
       "      <th>DAYS_EMPLOYED</th>\n",
       "      <th>MOBILE</th>\n",
       "      <th>WORK_PHONE</th>\n",
       "      <th>HOME_PHONE</th>\n",
       "      <th>MOBILE_REACHABLE</th>\n",
       "      <th>FLAG_EMAIL</th>\n",
       "      <th>CNT_FAM_MEMBERS</th>\n",
       "      <th>TOTAL_DOC_SUBMITTED</th>\n",
       "    </tr>\n",
       "  </thead>\n",
       "  <tbody>\n",
       "    <tr>\n",
       "      <th>count</th>\n",
       "      <td>100000.000000</td>\n",
       "      <td>100000.000000</td>\n",
       "      <td>100000.000000</td>\n",
       "      <td>1.000000e+05</td>\n",
       "      <td>1.000000e+05</td>\n",
       "      <td>9.991900e+04</td>\n",
       "      <td>100000.000000</td>\n",
       "      <td>100000.000000</td>\n",
       "      <td>100000.00000</td>\n",
       "      <td>100000.000000</td>\n",
       "      <td>100000.000000</td>\n",
       "      <td>100000.000000</td>\n",
       "      <td>99999.000000</td>\n",
       "      <td>100000.000000</td>\n",
       "    </tr>\n",
       "    <tr>\n",
       "      <th>mean</th>\n",
       "      <td>158006.140860</td>\n",
       "      <td>0.080930</td>\n",
       "      <td>0.417390</td>\n",
       "      <td>1.694261e+05</td>\n",
       "      <td>5.990034e+05</td>\n",
       "      <td>5.383451e+05</td>\n",
       "      <td>63292.222060</td>\n",
       "      <td>0.999990</td>\n",
       "      <td>0.82128</td>\n",
       "      <td>0.199740</td>\n",
       "      <td>0.997990</td>\n",
       "      <td>0.056190</td>\n",
       "      <td>2.155672</td>\n",
       "      <td>0.931210</td>\n",
       "    </tr>\n",
       "    <tr>\n",
       "      <th>std</th>\n",
       "      <td>33481.166996</td>\n",
       "      <td>0.272729</td>\n",
       "      <td>0.721014</td>\n",
       "      <td>3.835007e+05</td>\n",
       "      <td>4.020520e+05</td>\n",
       "      <td>3.693977e+05</td>\n",
       "      <td>140839.697296</td>\n",
       "      <td>0.003162</td>\n",
       "      <td>0.38312</td>\n",
       "      <td>0.399807</td>\n",
       "      <td>0.044788</td>\n",
       "      <td>0.230289</td>\n",
       "      <td>0.908897</td>\n",
       "      <td>0.343917</td>\n",
       "    </tr>\n",
       "    <tr>\n",
       "      <th>min</th>\n",
       "      <td>100002.000000</td>\n",
       "      <td>0.000000</td>\n",
       "      <td>0.000000</td>\n",
       "      <td>2.565000e+04</td>\n",
       "      <td>4.500000e+04</td>\n",
       "      <td>4.500000e+04</td>\n",
       "      <td>-17531.000000</td>\n",
       "      <td>0.000000</td>\n",
       "      <td>0.00000</td>\n",
       "      <td>0.000000</td>\n",
       "      <td>0.000000</td>\n",
       "      <td>0.000000</td>\n",
       "      <td>1.000000</td>\n",
       "      <td>0.000000</td>\n",
       "    </tr>\n",
       "    <tr>\n",
       "      <th>25%</th>\n",
       "      <td>129076.750000</td>\n",
       "      <td>0.000000</td>\n",
       "      <td>0.000000</td>\n",
       "      <td>1.125000e+05</td>\n",
       "      <td>2.700000e+05</td>\n",
       "      <td>2.385000e+05</td>\n",
       "      <td>-2758.000000</td>\n",
       "      <td>1.000000</td>\n",
       "      <td>1.00000</td>\n",
       "      <td>0.000000</td>\n",
       "      <td>1.000000</td>\n",
       "      <td>0.000000</td>\n",
       "      <td>2.000000</td>\n",
       "      <td>1.000000</td>\n",
       "    </tr>\n",
       "    <tr>\n",
       "      <th>50%</th>\n",
       "      <td>157877.000000</td>\n",
       "      <td>0.000000</td>\n",
       "      <td>0.000000</td>\n",
       "      <td>1.440000e+05</td>\n",
       "      <td>5.130405e+05</td>\n",
       "      <td>4.500000e+05</td>\n",
       "      <td>-1219.000000</td>\n",
       "      <td>1.000000</td>\n",
       "      <td>1.00000</td>\n",
       "      <td>0.000000</td>\n",
       "      <td>1.000000</td>\n",
       "      <td>0.000000</td>\n",
       "      <td>2.000000</td>\n",
       "      <td>1.000000</td>\n",
       "    </tr>\n",
       "    <tr>\n",
       "      <th>75%</th>\n",
       "      <td>186982.250000</td>\n",
       "      <td>0.000000</td>\n",
       "      <td>1.000000</td>\n",
       "      <td>2.025000e+05</td>\n",
       "      <td>8.086500e+05</td>\n",
       "      <td>6.795000e+05</td>\n",
       "      <td>-291.000000</td>\n",
       "      <td>1.000000</td>\n",
       "      <td>1.00000</td>\n",
       "      <td>0.000000</td>\n",
       "      <td>1.000000</td>\n",
       "      <td>0.000000</td>\n",
       "      <td>3.000000</td>\n",
       "      <td>1.000000</td>\n",
       "    </tr>\n",
       "    <tr>\n",
       "      <th>max</th>\n",
       "      <td>216090.000000</td>\n",
       "      <td>1.000000</td>\n",
       "      <td>12.000000</td>\n",
       "      <td>1.170000e+08</td>\n",
       "      <td>4.050000e+06</td>\n",
       "      <td>4.050000e+06</td>\n",
       "      <td>365243.000000</td>\n",
       "      <td>1.000000</td>\n",
       "      <td>1.00000</td>\n",
       "      <td>1.000000</td>\n",
       "      <td>1.000000</td>\n",
       "      <td>1.000000</td>\n",
       "      <td>14.000000</td>\n",
       "      <td>4.000000</td>\n",
       "    </tr>\n",
       "  </tbody>\n",
       "</table>\n",
       "</div>"
      ],
      "text/plain": [
       "          SK_ID_CURR         TARGET   CNT_CHILDREN  AMT_INCOME_TOTAL  \\\n",
       "count  100000.000000  100000.000000  100000.000000      1.000000e+05   \n",
       "mean   158006.140860       0.080930       0.417390      1.694261e+05   \n",
       "std     33481.166996       0.272729       0.721014      3.835007e+05   \n",
       "min    100002.000000       0.000000       0.000000      2.565000e+04   \n",
       "25%    129076.750000       0.000000       0.000000      1.125000e+05   \n",
       "50%    157877.000000       0.000000       0.000000      1.440000e+05   \n",
       "75%    186982.250000       0.000000       1.000000      2.025000e+05   \n",
       "max    216090.000000       1.000000      12.000000      1.170000e+08   \n",
       "\n",
       "         AMT_CREDIT  AMT_GOODS_PRICE  DAYS_EMPLOYED         MOBILE  \\\n",
       "count  1.000000e+05     9.991900e+04  100000.000000  100000.000000   \n",
       "mean   5.990034e+05     5.383451e+05   63292.222060       0.999990   \n",
       "std    4.020520e+05     3.693977e+05  140839.697296       0.003162   \n",
       "min    4.500000e+04     4.500000e+04  -17531.000000       0.000000   \n",
       "25%    2.700000e+05     2.385000e+05   -2758.000000       1.000000   \n",
       "50%    5.130405e+05     4.500000e+05   -1219.000000       1.000000   \n",
       "75%    8.086500e+05     6.795000e+05    -291.000000       1.000000   \n",
       "max    4.050000e+06     4.050000e+06  365243.000000       1.000000   \n",
       "\n",
       "         WORK_PHONE     HOME_PHONE  MOBILE_REACHABLE     FLAG_EMAIL  \\\n",
       "count  100000.00000  100000.000000     100000.000000  100000.000000   \n",
       "mean        0.82128       0.199740          0.997990       0.056190   \n",
       "std         0.38312       0.399807          0.044788       0.230289   \n",
       "min         0.00000       0.000000          0.000000       0.000000   \n",
       "25%         1.00000       0.000000          1.000000       0.000000   \n",
       "50%         1.00000       0.000000          1.000000       0.000000   \n",
       "75%         1.00000       0.000000          1.000000       0.000000   \n",
       "max         1.00000       1.000000          1.000000       1.000000   \n",
       "\n",
       "       CNT_FAM_MEMBERS  TOTAL_DOC_SUBMITTED  \n",
       "count     99999.000000        100000.000000  \n",
       "mean          2.155672             0.931210  \n",
       "std           0.908897             0.343917  \n",
       "min           1.000000             0.000000  \n",
       "25%           2.000000             1.000000  \n",
       "50%           2.000000             1.000000  \n",
       "75%           3.000000             1.000000  \n",
       "max          14.000000             4.000000  "
      ]
     },
     "execution_count": 10,
     "metadata": {},
     "output_type": "execute_result"
    }
   ],
   "source": [
    "#Basic Exploration and Exploratory Data Analysis\n",
    "\n",
    "#Now, I will check the statistical summary of the given dataset by using describe function.\n",
    "\n",
    "#Describe: It will give count, mean, std, 25%, 50%, 75%, max value of all numerical colums of the dataset.\n",
    "\n",
    "\n",
    "df.describe()"
   ]
  },
  {
   "cell_type": "markdown",
   "id": "00afd9a6",
   "metadata": {},
   "source": [
    "# Checking if there are null values in any columns"
   ]
  },
  {
   "cell_type": "code",
   "execution_count": 11,
   "id": "80ae9437",
   "metadata": {},
   "outputs": [
    {
     "data": {
      "text/plain": [
       "SK_ID_CURR                 0\n",
       "TARGET                     0\n",
       "NAME_CONTRACT_TYPE         0\n",
       "GENDER                     0\n",
       "Car                        0\n",
       "House                      0\n",
       "CNT_CHILDREN               0\n",
       "AMT_INCOME_TOTAL           0\n",
       "AMT_CREDIT                 0\n",
       "AMT_GOODS_PRICE           81\n",
       "NAME_TYPE_SUITE          405\n",
       "NAME_INCOME_TYPE           0\n",
       "NAME_EDUCATION_TYPE        0\n",
       "NAME_FAMILY_STATUS         0\n",
       "DAYS_EMPLOYED              0\n",
       "MOBILE                     0\n",
       "WORK_PHONE                 0\n",
       "HOME_PHONE                 0\n",
       "MOBILE_REACHABLE           0\n",
       "FLAG_EMAIL                 0\n",
       "OCCUPATION_TYPE        31224\n",
       "CNT_FAM_MEMBERS            1\n",
       "APPLICATION_DAY            0\n",
       "TOTAL_DOC_SUBMITTED        0\n",
       "dtype: int64"
      ]
     },
     "execution_count": 11,
     "metadata": {},
     "output_type": "execute_result"
    }
   ],
   "source": [
    "df.isnull().sum()       # isnull returns the True/False dataframe\n",
    "                            #sum: counts the number of True in columns"
   ]
  },
  {
   "cell_type": "markdown",
   "id": "921f4594",
   "metadata": {},
   "source": [
    "# there ARE NULL VALUES IN 3 COLUMNS"
   ]
  },
  {
   "cell_type": "markdown",
   "id": "1c2bd79e",
   "metadata": {},
   "source": [
    "# Analysis of OCCUPATION_TYPE column"
   ]
  },
  {
   "cell_type": "code",
   "execution_count": 12,
   "id": "db1267aa",
   "metadata": {},
   "outputs": [
    {
     "data": {
      "text/plain": [
       "Laborers                 17977\n",
       "Sales staff              10383\n",
       "Core staff                8952\n",
       "Managers                  6969\n",
       "Drivers                   6057\n",
       "High skill tech staff     3650\n",
       "Accountants               3258\n",
       "Medicine staff            2851\n",
       "Security staff            2201\n",
       "Cooking staff             1954\n",
       "Cleaning staff            1512\n",
       "Private service staff      863\n",
       "Low-skill Laborers         705\n",
       "Waiters/barmen staff       437\n",
       "Secretaries                415\n",
       "Realty agents              242\n",
       "HR staff                   181\n",
       "IT staff                   169\n",
       "Name: OCCUPATION_TYPE, dtype: int64"
      ]
     },
     "execution_count": 12,
     "metadata": {},
     "output_type": "execute_result"
    }
   ],
   "source": [
    "df['OCCUPATION_TYPE'].value_counts()"
   ]
  },
  {
   "cell_type": "markdown",
   "id": "739605ca",
   "metadata": {},
   "source": [
    "# Impute NULL values with Unknown category"
   ]
  },
  {
   "cell_type": "code",
   "execution_count": 13,
   "id": "d686a303",
   "metadata": {},
   "outputs": [],
   "source": [
    "df['OCCUPATION_TYPE'].fillna(value = 'Unknown', inplace = True)"
   ]
  },
  {
   "cell_type": "code",
   "execution_count": 14,
   "id": "e63c8f2b",
   "metadata": {},
   "outputs": [
    {
     "data": {
      "image/png": "[encoded data removed]",
      "text/plain": [
       "<Figure size 720x360 with 1 Axes>"
      ]
     },
     "metadata": {
      "needs_background": "light"
     },
     "output_type": "display_data"
    }
   ],
   "source": [
    "plt.figure(figsize = (10,5))\n",
    "sns.countplot(data = df, x = \"OCCUPATION_TYPE\",palette='pastel')\n",
    "plt.xticks(rotation = 90)\n",
    "plt.show()"
   ]
  },
  {
   "cell_type": "markdown",
   "id": "39776cdb",
   "metadata": {},
   "source": [
    "# Observations\n",
    "\n",
    "Looking at the plot, Laborers has the highest number of loan applicants\n",
    "For imputation, it would be better to leave the data as is (missing values being 31.35%) and not impute to min/min/mode/median as it may bias the data in later computations"
   ]
  },
  {
   "cell_type": "code",
   "execution_count": 15,
   "id": "aef57c92",
   "metadata": {},
   "outputs": [
    {
     "data": {
      "text/plain": [
       "Unaccompanied      80789\n",
       "Family             13102\n",
       "Spouse, partner     3704\n",
       "Children            1072\n",
       "Other_B              556\n",
       "Other_A              287\n",
       "Group of people       85\n",
       "Name: NAME_TYPE_SUITE, dtype: int64"
      ]
     },
     "execution_count": 15,
     "metadata": {},
     "output_type": "execute_result"
    }
   ],
   "source": [
    "df['NAME_TYPE_SUITE'].value_counts()"
   ]
  },
  {
   "cell_type": "code",
   "execution_count": 16,
   "id": "d9d7caa9",
   "metadata": {},
   "outputs": [
    {
     "data": {
      "image/png": "[encoded data removed]",
      "text/plain": [
       "<Figure size 720x360 with 1 Axes>"
      ]
     },
     "metadata": {
      "needs_background": "light"
     },
     "output_type": "display_data"
    }
   ],
   "source": [
    "plt.figure(figsize = (10,5))\n",
    "sns.countplot(data = df, x = \"NAME_TYPE_SUITE\",palette='pastel')\n",
    "plt.xticks(rotation = 90)\n",
    "plt.show()"
   ]
  },
  {
   "cell_type": "markdown",
   "id": "08043873",
   "metadata": {},
   "source": [
    "# Observations\n",
    "\n",
    "Looking at the plot, Unaccompanied category has the highest number of loan applicants. So, most of the loan applicants venture out alone for applying loan\n",
    "We can go ahead and impute Unaccompanied in the dataframe"
   ]
  },
  {
   "cell_type": "code",
   "execution_count": 17,
   "id": "5de95525",
   "metadata": {},
   "outputs": [],
   "source": [
    "df['NAME_TYPE_SUITE'].fillna(value = 'Unaccompanied', inplace = True)"
   ]
  },
  {
   "cell_type": "markdown",
   "id": "a20f10d2",
   "metadata": {},
   "source": [
    "# Analysis of AMT_GOODS_PRICE column"
   ]
  },
  {
   "cell_type": "code",
   "execution_count": 18,
   "id": "4ca13eea",
   "metadata": {},
   "outputs": [
    {
     "data": {
      "text/plain": [
       "450000.0    8459\n",
       "225000.0    8201\n",
       "675000.0    8155\n",
       "900000.0    5016\n",
       "270000.0    3721\n",
       "Name: AMT_GOODS_PRICE, dtype: int64"
      ]
     },
     "execution_count": 18,
     "metadata": {},
     "output_type": "execute_result"
    }
   ],
   "source": [
    "df.AMT_GOODS_PRICE.value_counts().head()"
   ]
  },
  {
   "cell_type": "code",
   "execution_count": 19,
   "id": "ca7c53b8",
   "metadata": {},
   "outputs": [
    {
     "data": {
      "image/png": "[encoded data removed]",
      "text/plain": [
       "<Figure size 432x288 with 1 Axes>"
      ]
     },
     "metadata": {
      "needs_background": "light"
     },
     "output_type": "display_data"
    }
   ],
   "source": [
    "sns.boxplot(df.AMT_GOODS_PRICE,palette='pastel')\n",
    "plt.show()"
   ]
  },
  {
   "cell_type": "markdown",
   "id": "c8dbdeba",
   "metadata": {},
   "source": [
    "# Most recurring value in AMT_GOODS_PRICE"
   ]
  },
  {
   "cell_type": "code",
   "execution_count": 20,
   "id": "631a30f4",
   "metadata": {},
   "outputs": [
    {
     "data": {
      "text/plain": [
       "450000.0"
      ]
     },
     "execution_count": 20,
     "metadata": {},
     "output_type": "execute_result"
    }
   ],
   "source": [
    "df.AMT_GOODS_PRICE.mode()[0]"
   ]
  },
  {
   "cell_type": "markdown",
   "id": "5252f517",
   "metadata": {},
   "source": [
    "# Checking the average value of AMT_GOODS_PRICE"
   ]
  },
  {
   "cell_type": "code",
   "execution_count": 21,
   "id": "50e3ef60",
   "metadata": {},
   "outputs": [
    {
     "data": {
      "text/plain": [
       "538345.1489706662"
      ]
     },
     "execution_count": 21,
     "metadata": {},
     "output_type": "execute_result"
    }
   ],
   "source": [
    "df.AMT_GOODS_PRICE.mean()"
   ]
  },
  {
   "cell_type": "code",
   "execution_count": 22,
   "id": "a07c93ea",
   "metadata": {},
   "outputs": [],
   "source": [
    "df['AMT_GOODS_PRICE'].fillna(value = 53845, inplace = True)"
   ]
  },
  {
   "cell_type": "code",
   "execution_count": 23,
   "id": "8c5b58e5",
   "metadata": {},
   "outputs": [
    {
     "data": {
      "text/plain": [
       "SK_ID_CURR             0\n",
       "TARGET                 0\n",
       "NAME_CONTRACT_TYPE     0\n",
       "GENDER                 0\n",
       "Car                    0\n",
       "House                  0\n",
       "CNT_CHILDREN           0\n",
       "AMT_INCOME_TOTAL       0\n",
       "AMT_CREDIT             0\n",
       "AMT_GOODS_PRICE        0\n",
       "NAME_TYPE_SUITE        0\n",
       "NAME_INCOME_TYPE       0\n",
       "NAME_EDUCATION_TYPE    0\n",
       "NAME_FAMILY_STATUS     0\n",
       "DAYS_EMPLOYED          0\n",
       "MOBILE                 0\n",
       "WORK_PHONE             0\n",
       "HOME_PHONE             0\n",
       "MOBILE_REACHABLE       0\n",
       "FLAG_EMAIL             0\n",
       "OCCUPATION_TYPE        0\n",
       "CNT_FAM_MEMBERS        1\n",
       "APPLICATION_DAY        0\n",
       "TOTAL_DOC_SUBMITTED    0\n",
       "dtype: int64"
      ]
     },
     "execution_count": 23,
     "metadata": {},
     "output_type": "execute_result"
    }
   ],
   "source": [
    "df.isnull().sum()"
   ]
  },
  {
   "cell_type": "markdown",
   "id": "ef4ad73f",
   "metadata": {},
   "source": [
    "# Dealing with incorrect/unknown data values"
   ]
  },
  {
   "cell_type": "markdown",
   "id": "0fa1b797",
   "metadata": {},
   "source": [
    "# Analysis of CODE_GENDER column"
   ]
  },
  {
   "cell_type": "code",
   "execution_count": 24,
   "id": "7c2a6fc2",
   "metadata": {},
   "outputs": [
    {
     "data": {
      "text/plain": [
       "F      65855\n",
       "M      34142\n",
       "XNA        3\n",
       "Name: GENDER, dtype: int64"
      ]
     },
     "execution_count": 24,
     "metadata": {},
     "output_type": "execute_result"
    }
   ],
   "source": [
    "df['GENDER'].value_counts()"
   ]
  },
  {
   "cell_type": "markdown",
   "id": "39713576",
   "metadata": {},
   "source": [
    "# Gender should only be Male or Female. XNA value may indicate that the value was not provided by the loan applicant or missed by the loan officer verifying the application"
   ]
  },
  {
   "cell_type": "code",
   "execution_count": 25,
   "id": "be0e856d",
   "metadata": {},
   "outputs": [
    {
     "data": {
      "text/html": [
       "<div>\n",
       "<style scoped>\n",
       "    .dataframe tbody tr th:only-of-type {\n",
       "        vertical-align: middle;\n",
       "    }\n",
       "\n",
       "    .dataframe tbody tr th {\n",
       "        vertical-align: top;\n",
       "    }\n",
       "\n",
       "    .dataframe thead th {\n",
       "        text-align: right;\n",
       "    }\n",
       "</style>\n",
       "<table border=\"1\" class=\"dataframe\">\n",
       "  <thead>\n",
       "    <tr style=\"text-align: right;\">\n",
       "      <th></th>\n",
       "      <th>SK_ID_CURR</th>\n",
       "      <th>TARGET</th>\n",
       "      <th>NAME_CONTRACT_TYPE</th>\n",
       "      <th>GENDER</th>\n",
       "      <th>Car</th>\n",
       "      <th>House</th>\n",
       "      <th>CNT_CHILDREN</th>\n",
       "      <th>AMT_INCOME_TOTAL</th>\n",
       "      <th>AMT_CREDIT</th>\n",
       "      <th>AMT_GOODS_PRICE</th>\n",
       "      <th>...</th>\n",
       "      <th>DAYS_EMPLOYED</th>\n",
       "      <th>MOBILE</th>\n",
       "      <th>WORK_PHONE</th>\n",
       "      <th>HOME_PHONE</th>\n",
       "      <th>MOBILE_REACHABLE</th>\n",
       "      <th>FLAG_EMAIL</th>\n",
       "      <th>OCCUPATION_TYPE</th>\n",
       "      <th>CNT_FAM_MEMBERS</th>\n",
       "      <th>APPLICATION_DAY</th>\n",
       "      <th>TOTAL_DOC_SUBMITTED</th>\n",
       "    </tr>\n",
       "  </thead>\n",
       "  <tbody>\n",
       "    <tr>\n",
       "      <th>35657</th>\n",
       "      <td>141289</td>\n",
       "      <td>0</td>\n",
       "      <td>Revolving loans</td>\n",
       "      <td>XNA</td>\n",
       "      <td>Y</td>\n",
       "      <td>Y</td>\n",
       "      <td>0</td>\n",
       "      <td>207000.0</td>\n",
       "      <td>382500.0</td>\n",
       "      <td>337500.0</td>\n",
       "      <td>...</td>\n",
       "      <td>-10044</td>\n",
       "      <td>1</td>\n",
       "      <td>1</td>\n",
       "      <td>1</td>\n",
       "      <td>1</td>\n",
       "      <td>0</td>\n",
       "      <td>Unknown</td>\n",
       "      <td>2.0</td>\n",
       "      <td>TUESDAY</td>\n",
       "      <td>0</td>\n",
       "    </tr>\n",
       "    <tr>\n",
       "      <th>38566</th>\n",
       "      <td>144669</td>\n",
       "      <td>0</td>\n",
       "      <td>Revolving loans</td>\n",
       "      <td>XNA</td>\n",
       "      <td>N</td>\n",
       "      <td>Y</td>\n",
       "      <td>2</td>\n",
       "      <td>157500.0</td>\n",
       "      <td>270000.0</td>\n",
       "      <td>225000.0</td>\n",
       "      <td>...</td>\n",
       "      <td>-2797</td>\n",
       "      <td>1</td>\n",
       "      <td>1</td>\n",
       "      <td>1</td>\n",
       "      <td>1</td>\n",
       "      <td>0</td>\n",
       "      <td>Low-skill Laborers</td>\n",
       "      <td>4.0</td>\n",
       "      <td>FRIDAY</td>\n",
       "      <td>0</td>\n",
       "    </tr>\n",
       "    <tr>\n",
       "      <th>83382</th>\n",
       "      <td>196708</td>\n",
       "      <td>0</td>\n",
       "      <td>Revolving loans</td>\n",
       "      <td>XNA</td>\n",
       "      <td>N</td>\n",
       "      <td>Y</td>\n",
       "      <td>1</td>\n",
       "      <td>135000.0</td>\n",
       "      <td>405000.0</td>\n",
       "      <td>225000.0</td>\n",
       "      <td>...</td>\n",
       "      <td>-1228</td>\n",
       "      <td>1</td>\n",
       "      <td>1</td>\n",
       "      <td>1</td>\n",
       "      <td>1</td>\n",
       "      <td>0</td>\n",
       "      <td>Core staff</td>\n",
       "      <td>3.0</td>\n",
       "      <td>THURSDAY</td>\n",
       "      <td>0</td>\n",
       "    </tr>\n",
       "  </tbody>\n",
       "</table>\n",
       "<p>3 rows × 24 columns</p>\n",
       "</div>"
      ],
      "text/plain": [
       "       SK_ID_CURR  TARGET NAME_CONTRACT_TYPE GENDER Car House  CNT_CHILDREN  \\\n",
       "35657      141289       0    Revolving loans    XNA   Y     Y             0   \n",
       "38566      144669       0    Revolving loans    XNA   N     Y             2   \n",
       "83382      196708       0    Revolving loans    XNA   N     Y             1   \n",
       "\n",
       "       AMT_INCOME_TOTAL  AMT_CREDIT  AMT_GOODS_PRICE  ... DAYS_EMPLOYED  \\\n",
       "35657          207000.0    382500.0         337500.0  ...        -10044   \n",
       "38566          157500.0    270000.0         225000.0  ...         -2797   \n",
       "83382          135000.0    405000.0         225000.0  ...         -1228   \n",
       "\n",
       "      MOBILE WORK_PHONE HOME_PHONE  MOBILE_REACHABLE  FLAG_EMAIL  \\\n",
       "35657      1          1          1                 1           0   \n",
       "38566      1          1          1                 1           0   \n",
       "83382      1          1          1                 1           0   \n",
       "\n",
       "          OCCUPATION_TYPE  CNT_FAM_MEMBERS  APPLICATION_DAY  \\\n",
       "35657             Unknown              2.0          TUESDAY   \n",
       "38566  Low-skill Laborers              4.0           FRIDAY   \n",
       "83382          Core staff              3.0         THURSDAY   \n",
       "\n",
       "       TOTAL_DOC_SUBMITTED  \n",
       "35657                    0  \n",
       "38566                    0  \n",
       "83382                    0  \n",
       "\n",
       "[3 rows x 24 columns]"
      ]
     },
     "execution_count": 25,
     "metadata": {},
     "output_type": "execute_result"
    }
   ],
   "source": [
    "df[df['GENDER'] == 'XNA']"
   ]
  },
  {
   "cell_type": "markdown",
   "id": "dd7b417e",
   "metadata": {},
   "source": [
    "s data looks valid, we will go ahead and check for an imputation method.\n",
    "\n",
    "Female applicants are twice the number of Male applicants\n",
    "And so, we will go ahead and impute CODE_GENDER with '"
   ]
  },
  {
   "cell_type": "code",
   "execution_count": 26,
   "id": "44048537",
   "metadata": {},
   "outputs": [],
   "source": [
    "df['GENDER'] = df['GENDER'].apply(lambda x: 'F' if x == 'XNA' else x)"
   ]
  },
  {
   "cell_type": "code",
   "execution_count": 27,
   "id": "6aaec33c",
   "metadata": {},
   "outputs": [
    {
     "data": {
      "text/plain": [
       "F    65858\n",
       "M    34142\n",
       "Name: GENDER, dtype: int64"
      ]
     },
     "execution_count": 27,
     "metadata": {},
     "output_type": "execute_result"
    }
   ],
   "source": [
    "df['GENDER'].value_counts()"
   ]
  },
  {
   "cell_type": "markdown",
   "id": "b1387cab",
   "metadata": {},
   "source": [
    "# LEVEL 1 Analysis"
   ]
  },
  {
   "cell_type": "markdown",
   "id": "8bf6077f",
   "metadata": {},
   "source": [
    "# Identify if the data type in each column is categorical or numerical?\n",
    "\n",
    "Separate out the categorical columns from the numerical types\n",
    "\n",
    "These are the kind of analyses that can be performed on categorical data Check if it is Nominal or Ordinal Check how many categories are present Check the Mode Check for Missing values Think about how the missing values could be treated Think about the kind of graph/chart that can be plotted using this data Note: We are analyzing only one column at a time (Univariate Analysis)."
   ]
  },
  {
   "cell_type": "markdown",
   "id": "94d5bd17",
   "metadata": {},
   "source": [
    "# Separating Categorical and Numerical Variables"
   ]
  },
  {
   "cell_type": "code",
   "execution_count": 28,
   "id": "ca3b8fa8",
   "metadata": {},
   "outputs": [
    {
     "name": "stdout",
     "output_type": "stream",
     "text": [
      "categorical          continuous\n",
      "-------------------  ----------------\n",
      "TARGET               SK_ID_CURR\n",
      "NAME_CONTRACT_TYPE   AMT_INCOME_TOTAL\n",
      "GENDER               AMT_CREDIT\n",
      "Car                  AMT_GOODS_PRICE\n",
      "House                DAYS_EMPLOYED\n",
      "CNT_CHILDREN\n",
      "NAME_TYPE_SUITE\n",
      "NAME_INCOME_TYPE\n",
      "NAME_EDUCATION_TYPE\n",
      "NAME_FAMILY_STATUS\n",
      "MOBILE\n",
      "WORK_PHONE\n",
      "HOME_PHONE\n",
      "MOBILE_REACHABLE\n",
      "FLAG_EMAIL\n",
      "OCCUPATION_TYPE\n",
      "CNT_FAM_MEMBERS\n",
      "APPLICATION_DAY\n",
      "TOTAL_DOC_SUBMITTED\n"
     ]
    }
   ],
   "source": [
    "# Seprating out the categorical and continuous variables\n",
    "def seprate_data_types(df):\n",
    "    categorical = []\n",
    "    continuous = []\n",
    "    for column in df.columns:                # looping on the number of columns\n",
    "        if df[column].nunique() < 35:       # nunique:  returns unique values in the column,\n",
    "                                                    #here 100 is the hyperparamter and can be changed\n",
    "            categorical.append(column)\n",
    "        else:\n",
    "            continuous.append(column)\n",
    "            \n",
    "    return categorical, continuous \n",
    "\n",
    "\n",
    "categorical, continuous = seprate_data_types(df)         # Calling the function\n",
    "\n",
    "# # Tabulate is a package used to print the list, dict or any data sets in a proper format; in table format\n",
    "from tabulate import tabulate\n",
    "table = [categorical, continuous]\n",
    "print(tabulate({\"Categorical\":categorical,\n",
    "                \"continuous\": continuous}, headers = [\"categorical\", \"continuous\"]))"
   ]
  },
  {
   "cell_type": "markdown",
   "id": "3918376a",
   "metadata": {},
   "source": [
    "# 𝑈𝑛𝑖𝑣𝑎𝑟𝑖𝑎𝑡𝑒 𝐴𝑛𝑎𝑙𝑦𝑠𝑖𝑠 𝑜𝑓 𝐶𝑎𝑡𝑒𝑔𝑜𝑟𝑖𝑐𝑎𝑙 𝑉𝑎𝑟𝑖𝑎𝑏𝑙𝑒𝑠"
   ]
  },
  {
   "cell_type": "markdown",
   "id": "57b821eb",
   "metadata": {},
   "source": [
    "# Analyzing TARGET column"
   ]
  },
  {
   "cell_type": "code",
   "execution_count": 29,
   "id": "7872cd01",
   "metadata": {},
   "outputs": [
    {
     "data": {
      "text/plain": [
       "0    91907\n",
       "1     8093\n",
       "Name: TARGET, dtype: int64"
      ]
     },
     "execution_count": 29,
     "metadata": {},
     "output_type": "execute_result"
    }
   ],
   "source": [
    "df['TARGET'].value_counts()"
   ]
  },
  {
   "cell_type": "code",
   "execution_count": 30,
   "id": "2b748081",
   "metadata": {},
   "outputs": [
    {
     "data": {
      "image/png": "[encoded data removed]",
      "text/plain": [
       "<Figure size 720x360 with 1 Axes>"
      ]
     },
     "metadata": {
      "needs_background": "light"
     },
     "output_type": "display_data"
    }
   ],
   "source": [
    "plt.figure(figsize = (10,5))\n",
    "sns.countplot(x = df['TARGET'], data = df,palette='pastel')\n",
    "plt.title('Checking imbalance ratio of TARGET variable')\n",
    "plt.show()"
   ]
  },
  {
   "cell_type": "markdown",
   "id": "ae7a3a1a",
   "metadata": {},
   "source": [
    "We have imbalance in TARGET variable based on the % of observations\n",
    "TARGET value 1 represents client with payment difficulties (he/she had late payment more than X days on at least one of the first Y installments of the loan). This is very less\n",
    "TARGET value 0 represents all other cases than 1. "
   ]
  },
  {
   "cell_type": "code",
   "execution_count": 31,
   "id": "87ba0d3a",
   "metadata": {},
   "outputs": [
    {
     "data": {
      "text/plain": [
       "Cash loans         90.517\n",
       "Revolving loans     9.483\n",
       "Name: NAME_CONTRACT_TYPE, dtype: float64"
      ]
     },
     "execution_count": 31,
     "metadata": {},
     "output_type": "execute_result"
    }
   ],
   "source": [
    "df.NAME_CONTRACT_TYPE.value_counts(normalize=True)*100"
   ]
  },
  {
   "cell_type": "code",
   "execution_count": 32,
   "id": "88591182",
   "metadata": {},
   "outputs": [
    {
     "data": {
      "image/png": "[encoded data removed]",
      "text/plain": [
       "<Figure size 720x360 with 1 Axes>"
      ]
     },
     "metadata": {
      "needs_background": "light"
     },
     "output_type": "display_data"
    }
   ],
   "source": [
    "plt.figure(figsize = (10,5))\n",
    "sns.countplot(x = df['NAME_CONTRACT_TYPE'], data = df,palette='pastel')\n",
    "plt.title('contract type')\n",
    "plt.show()"
   ]
  },
  {
   "cell_type": "markdown",
   "id": "471520e8",
   "metadata": {},
   "source": [
    "# The Contract_type graph shows that CASH loans were taken by 90.51% of the people  and only 9.4% people took Revolving Loans"
   ]
  },
  {
   "cell_type": "code",
   "execution_count": 33,
   "id": "959b61ff",
   "metadata": {},
   "outputs": [
    {
     "data": {
      "text/plain": [
       "F    65.858\n",
       "M    34.142\n",
       "Name: GENDER, dtype: float64"
      ]
     },
     "execution_count": 33,
     "metadata": {},
     "output_type": "execute_result"
    }
   ],
   "source": [
    "df.GENDER.value_counts(normalize=True)*100"
   ]
  },
  {
   "cell_type": "code",
   "execution_count": 34,
   "id": "70eef7b3",
   "metadata": {},
   "outputs": [
    {
     "data": {
      "image/png": "[encoded data removed]",
      "text/plain": [
       "<Figure size 720x360 with 1 Axes>"
      ]
     },
     "metadata": {
      "needs_background": "light"
     },
     "output_type": "display_data"
    }
   ],
   "source": [
    "plt.figure(figsize = (10,5))\n",
    "sns.countplot(x = df['GENDER'], data = df , palette='pastel')\n",
    "plt.title('GENDER')\n",
    "plt.show()"
   ]
  },
  {
   "cell_type": "markdown",
   "id": "9dc4ca12",
   "metadata": {},
   "source": [
    "# The GENDER_type graph shows that LOANS were taken by more number of females."
   ]
  },
  {
   "cell_type": "code",
   "execution_count": 35,
   "id": "b9d3e850",
   "metadata": {},
   "outputs": [
    {
     "data": {
      "image/png": "[encoded data removed]",
      "text/plain": [
       "<Figure size 1008x360 with 1 Axes>"
      ]
     },
     "metadata": {
      "needs_background": "light"
     },
     "output_type": "display_data"
    }
   ],
   "source": [
    "plt.figure(figsize = (14,5))\n",
    "sns.countplot(x = df['NAME_INCOME_TYPE'], data = df ,palette='pastel' )\n",
    "plt.title('NAME_INCOME_TYPE')\n",
    "plt.show()"
   ]
  },
  {
   "cell_type": "markdown",
   "id": "7c9f3d23",
   "metadata": {},
   "source": [
    "# Income_type graph shows clients income type. The majority of the clients who applied for loans were working class professionals with 1,58,000 applications. Followed by Commercial associate 71,000 applications, which is followed by pensioners and State servants.\n",
    "\n",
    "# Unemployed, Students, Bussinessman, Maternity leave people were the least amount of people who applied for loan"
   ]
  },
  {
   "cell_type": "code",
   "execution_count": 36,
   "id": "9b639760",
   "metadata": {},
   "outputs": [
    {
     "data": {
      "text/plain": [
       "Married                 64.058\n",
       "Single / not married    14.571\n",
       "Civil marriage           9.769\n",
       "Separated                6.347\n",
       "Widow                    5.254\n",
       "Unknown                  0.001\n",
       "Name: NAME_FAMILY_STATUS, dtype: float64"
      ]
     },
     "execution_count": 36,
     "metadata": {},
     "output_type": "execute_result"
    }
   ],
   "source": [
    "df.NAME_FAMILY_STATUS.value_counts(normalize=True)*100"
   ]
  },
  {
   "cell_type": "code",
   "execution_count": 37,
   "id": "4051cbd8",
   "metadata": {},
   "outputs": [
    {
     "data": {
      "image/png": "[encoded data removed]",
      "text/plain": [
       "<Figure size 1008x360 with 1 Axes>"
      ]
     },
     "metadata": {
      "needs_background": "light"
     },
     "output_type": "display_data"
    }
   ],
   "source": [
    "plt.figure(figsize = (14,5))\n",
    "sns.countplot(x = df['NAME_FAMILY_STATUS'], data = df ,palette='pastel' )\n",
    "plt.title('NAME_FAMILY_STATUS')\n",
    "plt.show()"
   ]
  },
  {
   "cell_type": "markdown",
   "id": "00b43aaa",
   "metadata": {},
   "source": [
    "# Married people were the higher percentage of loan applicants with 64.08%. Followed by Single people having 14.57%\n",
    "# Civil marriage, Seperate, Widow were among the lower percentage category who applied for loans"
   ]
  },
  {
   "cell_type": "code",
   "execution_count": 38,
   "id": "a6ae02cb",
   "metadata": {},
   "outputs": [
    {
     "data": {
      "text/plain": [
       "Unknown                  31.224\n",
       "Laborers                 17.977\n",
       "Sales staff              10.383\n",
       "Core staff                8.952\n",
       "Managers                  6.969\n",
       "Drivers                   6.057\n",
       "High skill tech staff     3.650\n",
       "Accountants               3.258\n",
       "Medicine staff            2.851\n",
       "Security staff            2.201\n",
       "Cooking staff             1.954\n",
       "Cleaning staff            1.512\n",
       "Private service staff     0.863\n",
       "Low-skill Laborers        0.705\n",
       "Waiters/barmen staff      0.437\n",
       "Secretaries               0.415\n",
       "Realty agents             0.242\n",
       "HR staff                  0.181\n",
       "IT staff                  0.169\n",
       "Name: OCCUPATION_TYPE, dtype: float64"
      ]
     },
     "execution_count": 38,
     "metadata": {},
     "output_type": "execute_result"
    }
   ],
   "source": [
    "df.OCCUPATION_TYPE.value_counts(normalize=True)*100"
   ]
  },
  {
   "cell_type": "code",
   "execution_count": 39,
   "id": "3350df7b",
   "metadata": {},
   "outputs": [
    {
     "data": {
      "image/png": "[encoded data removed]",
      "text/plain": [
       "<Figure size 1872x576 with 1 Axes>"
      ]
     },
     "metadata": {
      "needs_background": "light"
     },
     "output_type": "display_data"
    }
   ],
   "source": [
    "plt.figure(figsize = (26,8))\n",
    "sns.countplot(x = df['OCCUPATION_TYPE'], data = df ,palette='pastel' )\n",
    "plt.title('OCCUPATION_TYPE')\n",
    "plt.show()"
   ]
  },
  {
   "cell_type": "markdown",
   "id": "6e83deba",
   "metadata": {},
   "source": [
    "# As you can see from the above percentage value that Laborers were the highest percentage of people who applied for a loan having the value of 17.13%, Followed by Sales staff (10.30%), Core staff (8.95%), Managers (6.96%), Drivers (6.05%) etc"
   ]
  },
  {
   "cell_type": "code",
   "execution_count": 40,
   "id": "ed6e8405",
   "metadata": {},
   "outputs": [
    {
     "data": {
      "image/png": "[encoded data removed]",
      "text/plain": [
       "<Figure size 576x360 with 1 Axes>"
      ]
     },
     "metadata": {
      "needs_background": "light"
     },
     "output_type": "display_data"
    }
   ],
   "source": [
    "plt.figure(figsize = (8,5))\n",
    "sns.countplot(x = df['Car'], data = df , palette='pastel')\n",
    "plt.title('Car')\n",
    "plt.show()"
   ]
  },
  {
   "cell_type": "code",
   "execution_count": 41,
   "id": "dad21bbf",
   "metadata": {},
   "outputs": [
    {
     "data": {
      "text/plain": [
       "N    66.018\n",
       "Y    33.982\n",
       "Name: Car, dtype: float64"
      ]
     },
     "execution_count": 41,
     "metadata": {},
     "output_type": "execute_result"
    }
   ],
   "source": [
    "df.Car.value_counts(normalize=True)*100"
   ]
  },
  {
   "cell_type": "markdown",
   "id": "1800c2ae",
   "metadata": {},
   "source": [
    "# 65.98% of the people do own a car\n",
    "# 34.01% of the people who applied own a car"
   ]
  },
  {
   "cell_type": "code",
   "execution_count": 42,
   "id": "75695cea",
   "metadata": {},
   "outputs": [
    {
     "data": {
      "text/plain": [
       "Secondary / secondary special    71.068\n",
       "Higher education                 24.399\n",
       "Incomplete higher                 3.270\n",
       "Lower secondary                   1.214\n",
       "Academic degree                   0.049\n",
       "Name: NAME_EDUCATION_TYPE, dtype: float64"
      ]
     },
     "execution_count": 42,
     "metadata": {},
     "output_type": "execute_result"
    }
   ],
   "source": [
    "df.NAME_EDUCATION_TYPE.value_counts(normalize=True)*100"
   ]
  },
  {
   "cell_type": "code",
   "execution_count": 43,
   "id": "02400ec7",
   "metadata": {},
   "outputs": [
    {
     "data": {
      "image/png": "[encoded data removed]",
      "text/plain": [
       "<Figure size 720x360 with 1 Axes>"
      ]
     },
     "metadata": {
      "needs_background": "light"
     },
     "output_type": "display_data"
    }
   ],
   "source": [
    "plt.figure(figsize = (10,5))\n",
    "sns.countplot(x = df['NAME_EDUCATION_TYPE'], data = df ,palette='pastel' )\n",
    "plt.title('Car')\n",
    "plt.show()"
   ]
  },
  {
   "cell_type": "markdown",
   "id": "7f2b23c9",
   "metadata": {},
   "source": [
    "# Majority of the applicants had a Secondary education (71.06%) followed by Higher education (24.39%). Academic degree had the lowest percentage"
   ]
  },
  {
   "cell_type": "markdown",
   "id": "0120655d",
   "metadata": {},
   "source": [
    "# 𝑈𝑛𝑖𝑣𝑎𝑟𝑖𝑎𝑡𝑒 𝐴𝑛𝑎𝑙𝑦𝑠𝑖𝑠 𝑜𝑓 NUMERICAL 𝑉𝑎𝑟𝑖𝑎𝑏𝑙𝑒𝑠"
   ]
  },
  {
   "cell_type": "code",
   "execution_count": 44,
   "id": "7a0b3451",
   "metadata": {},
   "outputs": [],
   "source": [
    "Numerical=['AMT_INCOME_TOTAL','AMT_CREDIT', 'AMT_GOODS_PRICE','DAYS_EMPLOYED']"
   ]
  },
  {
   "cell_type": "code",
   "execution_count": 45,
   "id": "b2a86dfd",
   "metadata": {},
   "outputs": [
    {
     "data": {
      "image/png": "[encoded data removed]",
      "text/plain": [
       "<Figure size 1584x1440 with 4 Axes>"
      ]
     },
     "metadata": {
      "needs_background": "light"
     },
     "output_type": "display_data"
    }
   ],
   "source": [
    "plt.figure(figsize=(22,20))\n",
    "\n",
    "for i in enumerate(Numerical):\n",
    "    plt.subplot(4,3,i[0]+1)\n",
    "    sns.boxplot(df[i[1]])\n",
    "\n",
    "plt.show()"
   ]
  },
  {
   "cell_type": "markdown",
   "id": "5aae4d62",
   "metadata": {},
   "source": [
    "From the above diagrams we can conclude that:\n",
    "\n",
    "Amt_Income_Total has a very high outlier, but it does not mean it could be an error. Some people have very high income\n",
    "\n",
    "Amt_Credit,  Amt_Goodprice, have outliers which are normal considering some people have  high credit value\n",
    "\n"
   ]
  },
  {
   "cell_type": "code",
   "execution_count": 46,
   "id": "12dbd3d7",
   "metadata": {},
   "outputs": [
    {
     "data": {
      "image/png": "[encoded data removed]",
      "text/plain": [
       "<Figure size 720x360 with 1 Axes>"
      ]
     },
     "metadata": {
      "needs_background": "light"
     },
     "output_type": "display_data"
    }
   ],
   "source": [
    "plt.figure(figsize = (10,5))\n",
    "sns.countplot(x = df['CNT_CHILDREN'], data = df ,palette='pastel' )\n",
    "plt.title('CNT_CHILDREN')\n",
    "plt.show()"
   ]
  },
  {
   "cell_type": "markdown",
   "id": "d2a21ac6",
   "metadata": {},
   "source": [
    "# applicants who had childrens count with 0 was the highest"
   ]
  },
  {
   "cell_type": "markdown",
   "id": "f535cf70",
   "metadata": {},
   "source": [
    "# Bivariate Analysis & Multivariate Analysis"
   ]
  },
  {
   "cell_type": "code",
   "execution_count": 47,
   "id": "f2a72349",
   "metadata": {},
   "outputs": [],
   "source": [
    "Category=[\"NAME_CONTRACT_TYPE\",\"GENDER\",\"NAME_INCOME_TYPE\",\"NAME_EDUCATION_TYPE\",\n",
    "          \"NAME_FAMILY_STATUS\",\"House\",\"CNT_CHILDREN\",\"CNT_FAM_MEMBERS\",\"FLAG_EMAIL\",\"MOBILE_REACHABLE\",\"TOTAL_DOC_SUBMITTED\",\"Car\"]\n",
    "#Not including Organization type as Its alot of categories, hence we will analyse it seperately "
   ]
  },
  {
   "cell_type": "markdown",
   "id": "30b12e12",
   "metadata": {},
   "source": [
    "# Comparing all the categorical columns with target variable for better analysis."
   ]
  },
  {
   "cell_type": "code",
   "execution_count": 48,
   "id": "d608b12c",
   "metadata": {},
   "outputs": [
    {
     "data": {
      "image/png": "[encoded data removed]",
      "text/plain": [
       "<Figure size 1800x2520 with 12 Axes>"
      ]
     },
     "metadata": {
      "needs_background": "light"
     },
     "output_type": "display_data"
    }
   ],
   "source": [
    "plt.figure(figsize=(25,35))\n",
    "sns.set(font_scale=1)\n",
    "for i in enumerate(Category):\n",
    "    plt.subplot(6,2,i[0]+1)\n",
    "    sns.countplot(data=df,x=i[1],hue='TARGET', saturation=1,palette='pastel')\n",
    "    plt.yscale(\"log\")\n",
    "plt.show()"
   ]
  },
  {
   "cell_type": "code",
   "execution_count": 53,
   "id": "88a044da",
   "metadata": {},
   "outputs": [
    {
     "data": {
      "image/png": "[encoded data removed]",
      "text/plain": [
       "<Figure size 1800x720 with 1 Axes>"
      ]
     },
     "metadata": {},
     "output_type": "display_data"
    }
   ],
   "source": [
    "plt.figure(figsize=(25,10))\n",
    "sns.countplot(data=df,x='OCCUPATION_TYPE',hue='TARGET', saturation=1,palette='pastel');"
   ]
  },
  {
   "cell_type": "markdown",
   "id": "f18a268f",
   "metadata": {},
   "source": [
    "# Cash Loans had the highest percentage of defaulters\n",
    "# whereas revolving loans had lesser percentage of defaulters"
   ]
  },
  {
   "cell_type": "markdown",
   "id": "04048955",
   "metadata": {},
   "source": [
    "# working clients had high default rate\n",
    "# Maternity Leave clients were also higher in default rate\n",
    "# Students and Businessman were very less likely to Default"
   ]
  },
  {
   "cell_type": "markdown",
   "id": "944714b4",
   "metadata": {},
   "source": [
    "# Lower Secondary, Secondary, Incomplete higher education clients had the bigger hand in defaulting\n",
    "# Academic Degree holders had the least default ratio"
   ]
  },
  {
   "cell_type": "markdown",
   "id": "91e62971",
   "metadata": {},
   "source": [
    "# Civil marriage and Unmarried Clients had the low default ratio\n",
    "# Widows were the least likely to default"
   ]
  },
  {
   "cell_type": "markdown",
   "id": "5c4d98ac",
   "metadata": {},
   "source": [
    "# Males had a higher percentage of Defaulting in comparison to Females\n",
    "# females were very less likely to default compared to males"
   ]
  },
  {
   "cell_type": "markdown",
   "id": "a23d666d",
   "metadata": {},
   "source": [
    "# Family members with higher number of members were the most likely to Default, ranging from 10-13 members\n",
    "# with peak values noticed between 11-13 members\n",
    "# Members with 1-5 were able to repay the loan"
   ]
  },
  {
   "cell_type": "markdown",
   "id": "3fd16f66",
   "metadata": {},
   "source": [
    "# Low skill laborers had the most Default rate\n",
    "# Followed by Waiters, Drivers\n",
    "# Least default rate was from Accountants and IT staff, HR staff"
   ]
  },
  {
   "cell_type": "code",
   "execution_count": 50,
   "id": "a9904aa2",
   "metadata": {},
   "outputs": [
    {
     "data": {
      "image/png": "[encoded data removed]",
      "text/plain": [
       "<Figure size 720x720 with 20 Axes>"
      ]
     },
     "metadata": {},
     "output_type": "display_data"
    }
   ],
   "source": [
    "sns.pairplot(data=df,vars=[\"AMT_INCOME_TOTAL\",\"AMT_CREDIT\",\"AMT_GOODS_PRICE\",\"DAYS_EMPLOYED\"])\n",
    "plt.show()"
   ]
  },
  {
   "cell_type": "markdown",
   "id": "357dea41",
   "metadata": {},
   "source": [
    "# There is a linear Correlation between:\n",
    "AMT_GOODS_PRICE and AMT_CREDIT"
   ]
  },
  {
   "cell_type": "markdown",
   "id": "f40f26de",
   "metadata": {},
   "source": [
    "# After all these analysis i have drawn overall conclusion.\n"
   ]
  },
  {
   "cell_type": "markdown",
   "id": "0631f821",
   "metadata": {},
   "source": [
    "#  Conclusion/Recomendation:"
   ]
  },
  {
   "cell_type": "markdown",
   "id": "9f9dca38",
   "metadata": {},
   "source": [
    "1.Bank should less focus on females because Men are less likely to default on loans than women. This may be due to a number of factors, such as men having higher incomes and being more likely to be employed.\n",
    "\n",
    "2.Banks should focus less on People with lower incomes as they are more likely to default on loans than people with higher incomes. This is because people with lower incomes have less money to spare in case of an emergency.\n",
    "\n",
    "3.Banks should focus more on People who work in certain occupations, such as sales, labor, management, and core staff,as they are less likely to default on loans than people who work in other occupations. This may be due to the fact that these occupations tend to pay higher salaries and offer more job security.\n",
    "\n",
    "4.People who are married and have no children or a single child are less likely to default on loans than people who are single or have multiple children. This may be because married couples have more financial resources and are less likely to experience financial hardship.\n",
    "\n",
    "5.People with smaller families are less likely to default on loans than people with larger families. This may be because people with smaller families have less financial obligations and are more likely to be able to make their loan payments on time.\n",
    "\n",
    "These are just some of the factors that can affect the probability of defaulting on a loan. Lenders will typically consider all of these factors, as well as other factors, when making a lending decision"
   ]
  },
  {
   "cell_type": "code",
   "execution_count": null,
   "id": "2f9c9017",
   "metadata": {},
   "outputs": [],
   "source": []
  },
  {
   "cell_type": "code",
   "execution_count": null,
   "id": "8d12c43c",
   "metadata": {},
   "outputs": [],
   "source": []
  },
  {
   "cell_type": "code",
   "execution_count": null,
   "id": "80ab8ca0",
   "metadata": {},
   "outputs": [],
   "source": []
  },
  {
   "cell_type": "code",
   "execution_count": null,
   "id": "2777e826",
   "metadata": {},
   "outputs": [],
   "source": []
  },
  {
   "cell_type": "code",
   "execution_count": null,
   "id": "e7c4f54d",
   "metadata": {},
   "outputs": [],
   "source": []
  },
  {
   "cell_type": "code",
   "execution_count": null,
   "id": "8b986d2d",
   "metadata": {},
   "outputs": [],
   "source": []
  },
  {
   "cell_type": "code",
   "execution_count": null,
   "id": "ead42737",
   "metadata": {},
   "outputs": [],
   "source": []
  },
  {
   "cell_type": "code",
   "execution_count": null,
   "id": "c653de66",
   "metadata": {},
   "outputs": [],
   "source": []
  },
  {
   "cell_type": "code",
   "execution_count": null,
   "id": "a9fe7030",
   "metadata": {},
   "outputs": [],
   "source": []
  },
  {
   "cell_type": "code",
   "execution_count": null,
   "id": "5fe4e271",
   "metadata": {},
   "outputs": [],
   "source": []
  },
  {
   "cell_type": "code",
   "execution_count": null,
   "id": "f621fe63",
   "metadata": {},
   "outputs": [],
   "source": []
  },
  {
   "cell_type": "code",
   "execution_count": null,
   "id": "a94d3429",
   "metadata": {},
   "outputs": [],
   "source": []
  },
  {
   "cell_type": "code",
   "execution_count": null,
   "id": "d8097cbc",
   "metadata": {},
   "outputs": [],
   "source": []
  },
  {
   "cell_type": "code",
   "execution_count": null,
   "id": "e02f24a9",
   "metadata": {},
   "outputs": [],
   "source": []
  },
  {
   "cell_type": "code",
   "execution_count": null,
   "id": "1ca6decf",
   "metadata": {},
   "outputs": [],
   "source": []
  },
  {
   "cell_type": "code",
   "execution_count": null,
   "id": "90d019a6",
   "metadata": {},
   "outputs": [],
   "source": []
  },
  {
   "cell_type": "code",
   "execution_count": null,
   "id": "2b025c97",
   "metadata": {},
   "outputs": [],
   "source": []
  },
  {
   "cell_type": "code",
   "execution_count": null,
   "id": "2719184d",
   "metadata": {},
   "outputs": [],
   "source": []
  },
  {
   "cell_type": "code",
   "execution_count": null,
   "id": "98bc9062",
   "metadata": {},
   "outputs": [],
   "source": []
  },
  {
   "cell_type": "code",
   "execution_count": null,
   "id": "2a5079bc",
   "metadata": {},
   "outputs": [],
   "source": []
  },
  {
   "cell_type": "code",
   "execution_count": null,
   "id": "52b987f0",
   "metadata": {},
   "outputs": [],
   "source": []
  },
  {
   "cell_type": "code",
   "execution_count": null,
   "id": "0ea72516",
   "metadata": {},
   "outputs": [],
   "source": []
  },
  {
   "cell_type": "code",
   "execution_count": null,
   "id": "0c9b21a1",
   "metadata": {},
   "outputs": [],
   "source": []
  }
 ],
 "metadata": {
  "kernelspec": {
   "display_name": "Python 3 (ipykernel)",
   "language": "python",
   "name": "python3"
  },
  "language_info": {
   "codemirror_mode": {
    "name": "ipython",
    "version": 3
   },
   "file_extension": ".py",
   "mimetype": "text/x-python",
   "name": "python",
   "nbconvert_exporter": "python",
   "pygments_lexer": "ipython3",
   "version": "3.9.7"
  }
 },
 "nbformat": 4,
 "nbformat_minor": 5
}
